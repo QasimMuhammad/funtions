{
 "cells": [
  {
   "cell_type": "code",
   "execution_count": 13,
   "metadata": {},
   "outputs": [
    {
     "ename": "SyntaxError",
     "evalue": "invalid syntax (<ipython-input-13-e83eaf77f729>, line 6)",
     "output_type": "error",
     "traceback": [
      "\u001b[1;36m  File \u001b[1;32m\"<ipython-input-13-e83eaf77f729>\"\u001b[1;36m, line \u001b[1;32m6\u001b[0m\n\u001b[1;33m    alert \"Today's forecast for {Seoul:} The temperature will range from {9 to 18} temperature unit {Celsius.} weather condition will be{Light rain}\".format(Seoul,9 to 18,Celsius,Light rain)\u001b[0m\n\u001b[1;37m                                                                                                                                                    ^\u001b[0m\n\u001b[1;31mSyntaxError\u001b[0m\u001b[1;31m:\u001b[0m invalid syntax\n"
     ]
    }
   ],
   "source": []
  },
  {
   "cell_type": "code",
   "execution_count": 14,
   "metadata": {},
   "outputs": [
    {
     "data": {
      "text/plain": [
       "\"Today's forecast for {Seoul:} The temperature will range from {9 to 18} temperature unit {Celsius.} weather condition will be{Light rain}  \""
      ]
     },
     "execution_count": 14,
     "metadata": {},
     "output_type": "execute_result"
    }
   ],
   "source": [
    "alert"
   ]
  },
  {
   "cell_type": "code",
   "execution_count": 28,
   "metadata": {},
   "outputs": [
    {
     "name": "stdout",
     "output_type": "stream",
     "text": [
      "Today's forcast for Seoul: The temperature will range from 18 to 9 temperature unit degrees Celsius. weather condition will be light rain\n"
     ]
    }
   ],
   "source": [
    "city = \"Seoul\"\n",
    "high_temperature = 18\n",
    "low_temperature = 9\n",
    "temperature_unit = \"degrees Celsius\"\n",
    "weather_conditions = \"light rain\"\n",
    "#alert \"Today's forecast for {Seoul:} The temperature will range from {9 to 18} temperature unit {Celsius.} weather condition will be{Light rain}\"\n",
    "#todo rewrite this line to use the format method rather than string concatenation\n",
    "#alert = \"Today's forecast for \" + city + \": The temperature will range from \" + str(low_temperature) + \" to \" + str(high_temperature) + \" \" + temperature_unit + \". Conditions will be \" + weather_conditions + \".\"\n",
    "alert =\"Today's forcast for {}: The temperature will range from {} to {} temperature unit {}. weather condition will be {}\".format(city,high_temperature,low_temperature,temperature_unit,weather_conditions)\n",
    "print(alert)"
   ]
  },
  {
   "cell_type": "code",
   "execution_count": 46,
   "metadata": {},
   "outputs": [
    {
     "data": {
      "text/plain": [
       "282.7431"
      ]
     },
     "execution_count": 46,
     "metadata": {},
     "output_type": "execute_result"
    }
   ],
   "source": [
    "def cylinder_volume(height, radius):\n",
    "    pi = 3.14159\n",
    "    return height * pi * radius ** 2\n",
    "cylinder_volume(10, 3)\n"
   ]
  },
  {
   "cell_type": "code",
   "execution_count": 47,
   "metadata": {},
   "outputs": [
    {
     "data": {
      "text/plain": [
       "1570.795"
      ]
     },
     "execution_count": 47,
     "metadata": {},
     "output_type": "execute_result"
    }
   ],
   "source": [
    "cylinder_volume(20,5)\n"
   ]
  },
  {
   "cell_type": "code",
   "execution_count": null,
   "metadata": {
    "collapsed": true
   },
   "outputs": [],
   "source": []
  },
  {
   "cell_type": "code",
   "execution_count": null,
   "metadata": {
    "collapsed": true
   },
   "outputs": [],
   "source": []
  },
  {
   "cell_type": "code",
   "execution_count": null,
   "metadata": {
    "collapsed": true
   },
   "outputs": [],
   "source": []
  },
  {
   "cell_type": "code",
   "execution_count": null,
   "metadata": {
    "collapsed": true
   },
   "outputs": [],
   "source": []
  },
  {
   "cell_type": "code",
   "execution_count": null,
   "metadata": {
    "collapsed": true
   },
   "outputs": [],
   "source": []
  },
  {
   "cell_type": "code",
   "execution_count": null,
   "metadata": {
    "collapsed": true
   },
   "outputs": [],
   "source": []
  },
  {
   "cell_type": "code",
   "execution_count": null,
   "metadata": {
    "collapsed": true
   },
   "outputs": [],
   "source": []
  }
 ],
 "metadata": {
  "kernelspec": {
   "display_name": "Python 3",
   "language": "python",
   "name": "python3"
  },
  "language_info": {
   "codemirror_mode": {
    "name": "ipython",
    "version": 3
   },
   "file_extension": ".py",
   "mimetype": "text/x-python",
   "name": "python",
   "nbconvert_exporter": "python",
   "pygments_lexer": "ipython3",
   "version": "3.6.3"
  }
 },
 "nbformat": 4,
 "nbformat_minor": 2
}
